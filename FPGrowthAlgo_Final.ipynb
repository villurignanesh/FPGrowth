{
 "cells": [
  {
   "cell_type": "markdown",
   "id": "a91950e7",
   "metadata": {},
   "source": [
    "# Load Data"
   ]
  },
  {
   "cell_type": "code",
   "execution_count": 53,
   "id": "3a7203aa",
   "metadata": {
    "scrolled": true
   },
   "outputs": [],
   "source": [
    "import pandas as pd\n",
    "import numpy as np\n",
    "from operator import itemgetter\n",
    "import itertools\n",
    "import json\n",
    "import matplotlib\n",
    "import matplotlib.pyplot as plt\n",
    "import seaborn as sns\n",
    "import statsmodels.api as sm\n",
    "from tkinter import filedialog as fd\n",
    "from pandas.api.types import is_numeric_dtype\n",
    "from matplotlib import pyplot as plt\n",
    "import time\n",
    "\n",
    "start=time.time()\n",
    "filename = fd.askopenfilename()\n",
    "df = pd.read_csv(filename, header=None ,on_bad_lines='skip')"
   ]
  },
  {
   "cell_type": "markdown",
   "id": "eb76bdc9",
   "metadata": {},
   "source": [
    "# Data Preprocessing"
   ]
  },
  {
   "cell_type": "markdown",
   "id": "520fc512",
   "metadata": {},
   "source": [
    "### Handling NULL and NaN values"
   ]
  },
  {
   "cell_type": "code",
   "execution_count": 41,
   "id": "2d5cb620",
   "metadata": {},
   "outputs": [
    {
     "name": "stderr",
     "output_type": "stream",
     "text": [
      "C:\\Users\\villu\\AppData\\Local\\Temp\\ipykernel_12628\\820435583.py:1: FutureWarning: The default value of numeric_only in DataFrame.mean is deprecated. In a future version, it will default to False. In addition, specifying 'numeric_only=None' is deprecated. Select only valid columns or specify the value of numeric_only to silence this warning.\n",
      "  df.fillna(df.mean(), inplace=True)\n"
     ]
    }
   ],
   "source": [
    "df.fillna(df.mean(), inplace=True)"
   ]
  },
  {
   "cell_type": "markdown",
   "id": "35e96a4d",
   "metadata": {},
   "source": [
    "### Data normalization using maximum absolute scaling"
   ]
  },
  {
   "cell_type": "code",
   "execution_count": 42,
   "id": "50287b04",
   "metadata": {
    "scrolled": false
   },
   "outputs": [],
   "source": [
    "df_maximum_scaled = df.copy()\n",
    "for j in df_maximum_scaled.columns:\n",
    "    if is_numeric_dtype(j):\n",
    "        df_maximum_scaled[j] = df_maximum_scaled[j] / df_maximum_scaled[j].abs().max()\n",
    "df = df_maximum_scaled.copy()"
   ]
  },
  {
   "cell_type": "markdown",
   "id": "0fa5528c",
   "metadata": {},
   "source": [
    "### Handling same instances with different attributes"
   ]
  },
  {
   "cell_type": "code",
   "execution_count": 43,
   "id": "dcbce7a6",
   "metadata": {},
   "outputs": [],
   "source": [
    "columnHeaders = list(df.columns)\n",
    "for i in columnHeaders:\n",
    "    df[i]=df[i].astype(str)+'_'+str(i)"
   ]
  },
  {
   "cell_type": "markdown",
   "id": "d3c9fed2",
   "metadata": {},
   "source": [
    "### Adding the data to HashMap "
   ]
  },
  {
   "cell_type": "code",
   "execution_count": 44,
   "id": "729fcc1a",
   "metadata": {},
   "outputs": [],
   "source": [
    "hashMap = {}\n",
    "tempList=[]\n",
    "for dfIndex, dfData in df.iterrows():\n",
    "    index=\"% s\" % dfIndex\n",
    "    hashMap[index] = dfData.tolist()"
   ]
  },
  {
   "cell_type": "markdown",
   "id": "4cb81b50",
   "metadata": {},
   "source": [
    "### Finding top 10 frequent items that occur in the dataset"
   ]
  },
  {
   "cell_type": "code",
   "execution_count": 45,
   "id": "4065f532",
   "metadata": {},
   "outputs": [],
   "source": [
    "newdf=df.apply(pd.Series.value_counts)\n",
    "newdf=newdf.sum(axis=1)\n",
    "\n",
    "newdf=newdf.sort_values(ascending=False)\n",
    "newdf=newdf.to_frame().reset_index()\n",
    "\n",
    "newdf=newdf.rename(columns={\"index\":\"item_name\",0:\"item_count\"})"
   ]
  },
  {
   "cell_type": "code",
   "execution_count": 46,
   "id": "3b468050",
   "metadata": {
    "scrolled": true
   },
   "outputs": [
    {
     "data": {
      "text/html": [
       "<div>\n",
       "<style scoped>\n",
       "    .dataframe tbody tr th:only-of-type {\n",
       "        vertical-align: middle;\n",
       "    }\n",
       "\n",
       "    .dataframe tbody tr th {\n",
       "        vertical-align: top;\n",
       "    }\n",
       "\n",
       "    .dataframe thead th {\n",
       "        text-align: right;\n",
       "    }\n",
       "</style>\n",
       "<table border=\"1\" class=\"dataframe\">\n",
       "  <thead>\n",
       "    <tr style=\"text-align: right;\">\n",
       "      <th></th>\n",
       "      <th>item_name</th>\n",
       "      <th>item_count</th>\n",
       "    </tr>\n",
       "  </thead>\n",
       "  <tbody>\n",
       "    <tr>\n",
       "      <th>0</th>\n",
       "      <td>0_11</td>\n",
       "      <td>509.0</td>\n",
       "    </tr>\n",
       "    <tr>\n",
       "      <th>1</th>\n",
       "      <td>0_12</td>\n",
       "      <td>247.0</td>\n",
       "    </tr>\n",
       "    <tr>\n",
       "      <th>2</th>\n",
       "      <td>4_1</td>\n",
       "      <td>203.0</td>\n",
       "    </tr>\n",
       "    <tr>\n",
       "      <th>3</th>\n",
       "      <td>aug_2</td>\n",
       "      <td>184.0</td>\n",
       "    </tr>\n",
       "    <tr>\n",
       "      <th>4</th>\n",
       "      <td>sep_2</td>\n",
       "      <td>172.0</td>\n",
       "    </tr>\n",
       "    <tr>\n",
       "      <th>5</th>\n",
       "      <td>5_1</td>\n",
       "      <td>125.0</td>\n",
       "    </tr>\n",
       "    <tr>\n",
       "      <th>6</th>\n",
       "      <td>sun_3</td>\n",
       "      <td>95.0</td>\n",
       "    </tr>\n",
       "    <tr>\n",
       "      <th>7</th>\n",
       "      <td>4_0</td>\n",
       "      <td>91.0</td>\n",
       "    </tr>\n",
       "    <tr>\n",
       "      <th>8</th>\n",
       "      <td>6_0</td>\n",
       "      <td>86.0</td>\n",
       "    </tr>\n",
       "    <tr>\n",
       "      <th>9</th>\n",
       "      <td>fri_3</td>\n",
       "      <td>85.0</td>\n",
       "    </tr>\n",
       "  </tbody>\n",
       "</table>\n",
       "</div>"
      ],
      "text/plain": [
       "  item_name  item_count\n",
       "0      0_11       509.0\n",
       "1      0_12       247.0\n",
       "2       4_1       203.0\n",
       "3     aug_2       184.0\n",
       "4     sep_2       172.0\n",
       "5       5_1       125.0\n",
       "6     sun_3        95.0\n",
       "7       4_0        91.0\n",
       "8       6_0        86.0\n",
       "9     fri_3        85.0"
      ]
     },
     "execution_count": 46,
     "metadata": {},
     "output_type": "execute_result"
    }
   ],
   "source": [
    "newdf.head(10)"
   ]
  },
  {
   "cell_type": "markdown",
   "id": "b68dbdde",
   "metadata": {},
   "source": [
    "# Defining required Functions"
   ]
  },
  {
   "cell_type": "code",
   "execution_count": 47,
   "id": "4e7fc06f",
   "metadata": {},
   "outputs": [],
   "source": [
    "def fpGrowth(hm,Support):\n",
    "    candidates = generateCandidates(hm) #list of candidate dicts\n",
    "    sortedPrunedCandidates = pruneAndSort(candidates, minimumSupportCount) #prune by min_sup, sort by min_sup\n",
    "    scaledList = getscaledList(sortedPrunedCandidates) #used for sorting in order of support counts\n",
    "    #creating the tree\n",
    "    Tree={}\n",
    "    for ListofTransactions in hm.values(): \n",
    "        cleanListofTransactions = [x for x in ListofTransactions if x in scaledList] #removing entries in transaction list that didn't make it through to frequent 1-itemset\n",
    "        SortedTransaction =  sorted(cleanListofTransactions, key=lambda x: scaledList.index(x)) #ordering by L\n",
    "        Tree = updateTree(Tree,SortedTransaction) #updating the transaction to the tree\n",
    "    #mining patterns\n",
    "    frequentPatterns=[]\n",
    "    frequentPatterns = FPMining(Tree,[],sortedPrunedCandidates,minimumSupportCount,frequentPatterns)  \n",
    "    for x in frequentPatterns: #converting support count to support\n",
    "        x['support']=(float(x['support'])/float(len(hm)))  \n",
    "    return frequentPatterns\n",
    "\n",
    "def generateCandidates(hm):\n",
    "    listOfCandidates=[]\n",
    "    items = [item for li in hm.values() for item in li]\n",
    "    distinctItems=list(set(items))\n",
    "    values, counts = np.unique(items, return_counts=True)\n",
    "    lengthOfValues=len(values)\n",
    "    for i in range(lengthOfValues):\n",
    "        listOfCandidates.append({\"itemset\":[values[i]],\"support\":counts[i]})\n",
    "    return listOfCandidates\n",
    "\n",
    "def pruneAndSort(candidates, minimumSupportCount):\n",
    "    prunedCandidates = []\n",
    "    for item in candidates:\n",
    "        if(item[\"support\"]>=minimumSupportCount):\n",
    "            prunedCandidates.append(item)  \n",
    "    sortedPrunedCandiates = sorted(prunedCandidates, key=itemgetter(\"itemset\"), reverse=False) #first sort the items alphabetically\n",
    "    sortedPrunedCandiates = sorted(sortedPrunedCandiates, key=itemgetter(\"support\"), reverse=True) #then sort by sup_count\n",
    "    return sortedPrunedCandiates\n",
    "\n",
    "def getscaledList(sortedItems):\n",
    "    actualList = []\n",
    "    for x in sortedItems:\n",
    "        actualList.append(x['itemset'])\n",
    "    scaledList = [x1 for [x1] in actualList]\n",
    "    return scaledList\n",
    "\n",
    "def updateTree(Tree,SortedTransaction):  #adds a transaction to the FP-tree\n",
    "    ID = 0\n",
    "    for itemIndex, item in enumerate(SortedTransaction):\n",
    "        BufferKey = []\n",
    "        for key,value in Tree.items():\n",
    "            if(value['parent'] == ID and value['item']==item):\n",
    "                BufferKey.append(key)\n",
    "        if(not BufferKey):   #create a new node\n",
    "            Bufferhm = {'item' : item, 'count':1,'parent':ID}\n",
    "            ID = len(Tree)+1\n",
    "            Tree[ID]=Bufferhm\n",
    "        \n",
    "        else:               #update count of an existing node\n",
    "            Tree[BufferKey[0]]['count']+=1\n",
    "            ID = BufferKey[0]\n",
    "        \n",
    "    return Tree\n",
    "\n",
    "def createBasePattern(Tree,beta): #generates pattern base\n",
    "    Bufferhm = {}\n",
    "    keys = []\n",
    "    for key,value in Tree.items():\n",
    "        if(value['item']==beta[0]):\n",
    "            keys.append(key)\n",
    "    \n",
    "    for key in keys: \n",
    "        \n",
    "        listOfAncestors = []\n",
    "        parentIndex = Tree[key]['parent']\n",
    "        while(parentIndex):\n",
    "            listOfAncestors.append(Tree[parentIndex]['item']) \n",
    "            parentIndex = Tree[parentIndex]['parent']\n",
    "        listOfAncestors.reverse()\n",
    "        \n",
    "        if(listOfAncestors):\n",
    "            for i in range(Tree[key]['count']):\n",
    "                Bufferhm[len(Bufferhm)] = listOfAncestors\n",
    "                \n",
    "    return Bufferhm\n",
    "\n",
    "def FPMining(Tree,alpha,countItemset,minimumSupportCount,ultimateItemSet):\n",
    "    firstGenChildren = [key for key,value in Tree.items() if value['parent'] == 0] # find how many branches are connected to root\n",
    "    \n",
    "    if(len(firstGenChildren)==1): \n",
    "        nodePath = [value['item'] for key,value in Tree.items()]\n",
    "\n",
    "        subsetList = []\n",
    "        for cardinality in range(1,len(nodePath) + 1):\n",
    "            BufferList = list(itertools.combinations(nodePath,cardinality))\n",
    "            for x in BufferList:\n",
    "                subsetList.append(list(x))\n",
    "        \n",
    "        for x in subsetList:\n",
    "            BufferItemSet=x\n",
    "            BufferItemSet.extend(alpha)\n",
    "            BufferSupportCount = min([value['count'] for key,value in Tree.items()])\n",
    "            ultimateItemSet.append({'itemset':BufferItemSet,'support':BufferSupportCount})\n",
    "     \n",
    "    #tree contains multiple paths\n",
    "    else: \n",
    "        headerAccess = list(set([value['item'] for key,value in Tree.items()])) #finding header entries in the tree\n",
    "        sortedItemset = getscaledList(countItemset)\n",
    "        headerAccess = sorted(headerAccess, key=lambda x: sortedItemset.index(x), reverse=True) #sorting in reverse order of frequency\n",
    "        \n",
    "        for a in headerAccess: #each entry in the header\n",
    "            beta = [a]\n",
    "            beta.extend(alpha)\n",
    "\n",
    "            #append to ultimate itemsets\n",
    "            BufferSupportCount = [x['support'] for x in countItemset if x['itemset']==[a]]\n",
    "            ultimateItemSet.append({'itemset':beta,'support':BufferSupportCount[0]})\n",
    "            \n",
    "            #generate pattern base\n",
    "            betaPatternBaseMap = createBasePattern(Tree,beta) \n",
    "            candidates = generateCandidates(betaPatternBaseMap)\n",
    "            prunedCandidates = [x for x in candidates if x[\"support\"] >= minimumSupportCount]\n",
    "            scaledList = getscaledList(prunedCandidates)\n",
    "            \n",
    "            #generate tree\n",
    "            betaFpTree={}\n",
    "            for ListofTransactions in betaPatternBaseMap.values(): \n",
    "                cleanListofTransactions = [x for x in ListofTransactions if x in scaledList] #removing entries in transaction list that didn't make it through to frequent 1-itemset\n",
    "                SortedTransaction =  sorted(cleanListofTransactions, key=lambda x: scaledList.index(x)) #ordering by L\n",
    "                betaFpTree = updateTree(betaFpTree,SortedTransaction)\n",
    "  \n",
    "            #recursive calling of the mining function\n",
    "            if(betaFpTree):\n",
    "                ultimateItemSet = FPMining(betaFpTree,beta,prunedCandidates,minimumSupportCount,ultimateItemSet)\n",
    "        \n",
    "    return ultimateItemSet\n"
   ]
  },
  {
   "cell_type": "markdown",
   "id": "35b68aad",
   "metadata": {},
   "source": [
    "# Initialization"
   ]
  },
  {
   "cell_type": "code",
   "execution_count": 48,
   "id": "a8d730dc",
   "metadata": {},
   "outputs": [
    {
     "name": "stdout",
     "output_type": "stream",
     "text": [
      "The minimum support count is  155.4\n",
      " \n",
      "Number of frequent itemsets:\n",
      "9\n",
      " \n",
      "Frequent itemsets with support:\n",
      " \n",
      "[\n",
      "    {\n",
      "        \"itemset\": [\n",
      "            \"sep_2\"\n",
      "        ],\n",
      "        \"support\": 0.33204633204633205\n",
      "    },\n",
      "    {\n",
      "        \"itemset\": [\n",
      "            \"0_11\",\n",
      "            \"sep_2\"\n",
      "        ],\n",
      "        \"support\": 0.33204633204633205\n",
      "    },\n",
      "    {\n",
      "        \"itemset\": [\n",
      "            \"aug_2\"\n",
      "        ],\n",
      "        \"support\": 0.3552123552123552\n",
      "    },\n",
      "    {\n",
      "        \"itemset\": [\n",
      "            \"0_11\",\n",
      "            \"aug_2\"\n",
      "        ],\n",
      "        \"support\": 0.3436293436293436\n",
      "    },\n",
      "    {\n",
      "        \"itemset\": [\n",
      "            \"4_1\"\n",
      "        ],\n",
      "        \"support\": 0.3918918918918919\n",
      "    },\n",
      "    {\n",
      "        \"itemset\": [\n",
      "            \"0_11\",\n",
      "            \"4_1\"\n",
      "        ],\n",
      "        \"support\": 0.3861003861003861\n",
      "    },\n",
      "    {\n",
      "        \"itemset\": [\n",
      "            \"0_12\"\n",
      "        ],\n",
      "        \"support\": 0.4768339768339768\n",
      "    },\n",
      "    {\n",
      "        \"itemset\": [\n",
      "            \"0_11\",\n",
      "            \"0_12\"\n",
      "        ],\n",
      "        \"support\": 0.46525096525096526\n",
      "    },\n",
      "    {\n",
      "        \"itemset\": [\n",
      "            \"0_11\"\n",
      "        ],\n",
      "        \"support\": 0.9826254826254827\n",
      "    }\n",
      "]\n"
     ]
    }
   ],
   "source": [
    "if __name__=='__main__':\n",
    "    support = 0.3\n",
    "    minimumSupportCount = len(hashMap)*support\n",
    "    print(\"The minimum support count is \",minimumSupportCount)\n",
    "    frequentPatterns=fpGrowth(hashMap,minimumSupportCount)\n",
    "    print(\" \")\n",
    "    print(\"Number of frequent itemsets:\")\n",
    "    print(len(frequentPatterns))\n",
    "    print(\" \")\n",
    "    print(\"Frequent itemsets with support:\")\n",
    "    print(\" \")\n",
    "    finalDf=pd.DataFrame(frequentPatterns)\n",
    "    print(json.dumps(frequentPatterns, indent=4))\n",
    "    #print(finalDf)"
   ]
  },
  {
   "cell_type": "markdown",
   "id": "298c8ca2",
   "metadata": {},
   "source": []
  },
  {
   "cell_type": "code",
   "execution_count": 49,
   "id": "652937b3",
   "metadata": {},
   "outputs": [
    {
     "data": {
      "text/html": [
       "<div>\n",
       "<style scoped>\n",
       "    .dataframe tbody tr th:only-of-type {\n",
       "        vertical-align: middle;\n",
       "    }\n",
       "\n",
       "    .dataframe tbody tr th {\n",
       "        vertical-align: top;\n",
       "    }\n",
       "\n",
       "    .dataframe thead th {\n",
       "        text-align: right;\n",
       "    }\n",
       "</style>\n",
       "<table border=\"1\" class=\"dataframe\">\n",
       "  <thead>\n",
       "    <tr style=\"text-align: right;\">\n",
       "      <th></th>\n",
       "      <th>itemset</th>\n",
       "      <th>support</th>\n",
       "    </tr>\n",
       "  </thead>\n",
       "  <tbody>\n",
       "    <tr>\n",
       "      <th>0</th>\n",
       "      <td>[sep_2]</td>\n",
       "      <td>0.332046</td>\n",
       "    </tr>\n",
       "    <tr>\n",
       "      <th>1</th>\n",
       "      <td>[0_11, sep_2]</td>\n",
       "      <td>0.332046</td>\n",
       "    </tr>\n",
       "    <tr>\n",
       "      <th>2</th>\n",
       "      <td>[aug_2]</td>\n",
       "      <td>0.355212</td>\n",
       "    </tr>\n",
       "    <tr>\n",
       "      <th>3</th>\n",
       "      <td>[0_11, aug_2]</td>\n",
       "      <td>0.343629</td>\n",
       "    </tr>\n",
       "    <tr>\n",
       "      <th>4</th>\n",
       "      <td>[4_1]</td>\n",
       "      <td>0.391892</td>\n",
       "    </tr>\n",
       "    <tr>\n",
       "      <th>5</th>\n",
       "      <td>[0_11, 4_1]</td>\n",
       "      <td>0.386100</td>\n",
       "    </tr>\n",
       "    <tr>\n",
       "      <th>6</th>\n",
       "      <td>[0_12]</td>\n",
       "      <td>0.476834</td>\n",
       "    </tr>\n",
       "    <tr>\n",
       "      <th>7</th>\n",
       "      <td>[0_11, 0_12]</td>\n",
       "      <td>0.465251</td>\n",
       "    </tr>\n",
       "    <tr>\n",
       "      <th>8</th>\n",
       "      <td>[0_11]</td>\n",
       "      <td>0.982625</td>\n",
       "    </tr>\n",
       "  </tbody>\n",
       "</table>\n",
       "</div>"
      ],
      "text/plain": [
       "         itemset   support\n",
       "0        [sep_2]  0.332046\n",
       "1  [0_11, sep_2]  0.332046\n",
       "2        [aug_2]  0.355212\n",
       "3  [0_11, aug_2]  0.343629\n",
       "4          [4_1]  0.391892\n",
       "5    [0_11, 4_1]  0.386100\n",
       "6         [0_12]  0.476834\n",
       "7   [0_11, 0_12]  0.465251\n",
       "8         [0_11]  0.982625"
      ]
     },
     "execution_count": 49,
     "metadata": {},
     "output_type": "execute_result"
    }
   ],
   "source": [
    "resultDf=pd.DataFrame(finalDf)\n",
    "resultDf"
   ]
  },
  {
   "cell_type": "code",
   "execution_count": 50,
   "id": "69485cc1",
   "metadata": {},
   "outputs": [],
   "source": [
    "size=resultDf.shape[0]\n",
    "size\n",
    "x_buffer=[]\n",
    "y_buffer=[]"
   ]
  },
  {
   "cell_type": "code",
   "execution_count": 51,
   "id": "a15d7a29",
   "metadata": {},
   "outputs": [],
   "source": [
    "for i in range(0,size):\n",
    "    x_buffer.append(resultDf['itemset'][i][0])\n",
    "    y_buffer.append(resultDf['support'][i])"
   ]
  },
  {
   "cell_type": "code",
   "execution_count": 52,
   "id": "e737cf10",
   "metadata": {},
   "outputs": [
    {
     "data": {
      "image/png": "[encoded data removed]",
      "text/plain": [
       "<Figure size 640x480 with 1 Axes>"
      ]
     },
     "metadata": {},
     "output_type": "display_data"
    },
    {
     "name": "stdout",
     "output_type": "stream",
     "text": [
      "The time of execution of above program is : 65087.130546569824 ms\n"
     ]
    }
   ],
   "source": [
    "plt.scatter(x_buffer,y_buffer)\n",
    "plt.show()\n",
    "end=time.time()\n",
    "print(\"The time of execution of above program is :\", (end-start) * 10**3, \"ms\")"
   ]
  },
  {
   "cell_type": "code",
   "execution_count": null,
   "id": "a4746cf1",
   "metadata": {},
   "outputs": [],
   "source": []
  },
  {
   "cell_type": "code",
   "execution_count": null,
   "id": "3c1a35cd",
   "metadata": {},
   "outputs": [],
   "source": []
  },
  {
   "cell_type": "code",
   "execution_count": null,
   "id": "589acb93",
   "metadata": {},
   "outputs": [],
   "source": []
  }
 ],
 "metadata": {
  "kernelspec": {
   "display_name": "Python 3 (ipykernel)",
   "language": "python",
   "name": "python3"
  },
  "language_info": {
   "codemirror_mode": {
    "name": "ipython",
    "version": 3
   },
   "file_extension": ".py",
   "mimetype": "text/x-python",
   "name": "python",
   "nbconvert_exporter": "python",
   "pygments_lexer": "ipython3",
   "version": "3.10.6"
  }
 },
 "nbformat": 4,
 "nbformat_minor": 5
}
